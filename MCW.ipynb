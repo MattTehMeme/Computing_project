{
 "cells": [
  {
   "cell_type": "code",
   "execution_count": null,
   "metadata": {},
   "outputs": [],
   "source": [
    "#code for monte carlo\n",
    "\n"
   ]
  },
  {
   "cell_type": "markdown",
   "metadata": {},
   "source": [
    "1>writing a quantum trajectory code and comparing the output, averaged over many realisations, to the analytical solution of the OBE.\n",
    "\n",
    "The collapse of the wave function |psi> to the ground state |0> is known as a quantum jump and the complete time sequence | psi(t) as a quantum trajectory."
   ]
  },
  {
   "cell_type": "markdown",
   "metadata": {},
   "source": [
    "Monte  Carlo Wavefunction\n",
    "The simplest approach is to evolve the wavevector by a very small time step \u0000t to produce | 0(n + \u0000t)i, and to then generate a random number r between zero and one. If r > h 0(t + \u0000t)| 0(t + \u0000t)i then a quantum jump occurs and the qubit collapses to state |0i. "
   ]
  },
  {
   "cell_type": "code",
   "execution_count": null,
   "metadata": {},
   "outputs": [],
   "source": [
    "import numpy as np\n",
    "import pandas as pd\n",
    "import random\n",
    "import matplotlib as plot\n",
    "\n",
    "\n",
    "\n",
    "class MC:\n",
    "    global state_0\n",
    "    global state_1\n",
    "    global pho_matrix\n",
    "    global r\n",
    "    global gamma\n",
    "    #quantum number\n",
    "    n=1\n",
    "    h_bar=6.62607015×10**(-34)\n",
    "    \n",
    "    #this is the density matrix\n",
    "    pho_matix=\n",
    "    seed()\n",
    "    \n",
    "    #random.random() function to generate a random floating-point number between 0 and 1 in Python.\n",
    "    def __init__(self):\n",
    "        \n",
    "        psi0 = np.array([alpha*state_0, beta*state_1]) # Define state |q_0>\n",
    "    \n",
    "    def construct_Ham(self,delta, omega, gamma):\n",
    "        #delta=laser_frequency-qubit_resonant_frequency\n",
    "        # omega is known as the Rabi frequency and is proportional to the laser field amplitude\n",
    "        #gamma is the decay rate\n",
    "        H_eff=np.array([[delta,omega],[omega,-delta-j*gamma]])\n",
    "        return H_eff\n",
    "\n",
    "\n",
    "    def conjugae_transpose(self, matrix=ndarray ):\n",
    "\n",
    "        return matrix.conj().T\n",
    "\n",
    "    def evolve(self, shell_number,time):\n",
    "\n",
    "        n=shell_number\n",
    "        dt=time_step\n",
    "        sum_wave_vector=[]\n",
    "        # evolve the wavevector by a very small time step\n",
    "\n",
    "        evolved_=(1-i/h_bar*H_eff*dt)*wave_vector\n",
    "        \n",
    "        #Then, choose a random number r between 0 and and 1\n",
    "        r=random.random()\n",
    "        evolved_star=self.conjugate_transpose(evolved_)\n",
    "        norm_squared=evolved_star*evolved_\n",
    "        #If r is less than the norm-squared\n",
    "        if r<norm_squared:\n",
    "            # then there is no decay and we simply renormalise\n",
    "            wave_vector=evolved_/np.sqrt(norm_squared)\n",
    "        #if r is greater than or equal to norm _squared then there's a decay\n",
    "        elif r>=norm_squared:\n",
    "            \n",
    "            #we apply a jump operator\n",
    "            sum_time=0\n",
    "            i=0\n",
    "            while sum_time<>time:\n",
    "                i+=1\n",
    "                sum_time=dt*i\n",
    "                jump_evo_=(1-i/h_bar*H_eff*sum_time)*wave_vector\n",
    "                je_star=self.conjugate_transpose(jump_evo)\n",
    "                norm_squared=je_starr*jump_evo\n",
    "                jump_operator=np.sqrt(gamma/2)*np.array([0,1],[0,0])\n",
    "                c_star=self.conjugate_transpose(jump_operator)\n",
    "                wave_vector=(jump_operator*jump_evol)/np.sqrt(norm_squared*c_star*jump_operator)\n",
    "                sum_wave_vector.append(wave_vector)\n",
    "            return sum_wave_vector\n",
    "\n",
    "    def MC_Sampling(self, n_trajectory,time):\n",
    "        num=n_trajectory\n",
    "        r=random.random()\n",
    "        excitations=[]\n",
    "        sum_traj=self.evolve(2,time)\n",
    "        if :\n",
    "            density_matrix=(1/n)*sum_traj\n",
    "        #\n",
    "\n",
    "\n",
    "\n",
    "    def plot(self, time):\n",
    "        times = np.linspace(0.0, 1.0, time)\n",
    "        plt.figure()\n",
    "\n",
    "        plt.plot(times, results)\n",
    "        plt.title(\"Monte Carlo Wavefunction\")\n",
    "        plt.xlabel(\"Time (1/100) Rabi period\")\n",
    "        plt.xlabel(\"Excited state population\")\n",
    "\n",
    "    "
   ]
  }
 ],
 "metadata": {
  "kernelspec": {
   "display_name": "Python 3.8.9 64-bit",
   "language": "python",
   "name": "python3"
  },
  "language_info": {
   "name": "python",
   "version": "3.8.9"
  },
  "orig_nbformat": 4,
  "vscode": {
   "interpreter": {
    "hash": "31f2aee4e71d21fbe5cf8b01ff0e069b9275f58929596ceb00d14d90e3e16cd6"
   }
  }
 },
 "nbformat": 4,
 "nbformat_minor": 2
}
